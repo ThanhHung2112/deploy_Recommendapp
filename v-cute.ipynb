{
 "cells": [
  {
   "cell_type": "markdown",
   "id": "2224b1c0",
   "metadata": {
    "papermill": {
     "duration": 0.029497,
     "end_time": "2023-05-18T16:47:26.083979",
     "exception": false,
     "start_time": "2023-05-18T16:47:26.054482",
     "status": "completed"
    },
    "tags": []
   },
   "source": [
    "# Thư viện"
   ]
  },
  {
   "cell_type": "code",
   "execution_count": 74,
   "id": "e4964a66",
   "metadata": {
    "_cell_guid": "b1076dfc-b9ad-4769-8c92-a6c4dae69d19",
    "_uuid": "8f2839f25d086af736a60e9eeb907d3b93b6e0e5",
    "execution": {
     "iopub.execute_input": "2023-05-18T16:47:26.136709Z",
     "iopub.status.busy": "2023-05-18T16:47:26.136133Z",
     "iopub.status.idle": "2023-05-18T16:47:27.488338Z",
     "shell.execute_reply": "2023-05-18T16:47:27.486880Z"
    },
    "papermill": {
     "duration": 1.383277,
     "end_time": "2023-05-18T16:47:27.492039",
     "exception": false,
     "start_time": "2023-05-18T16:47:26.108762",
     "status": "completed"
    },
    "tags": []
   },
   "outputs": [],
   "source": [
    "# This Python 3 environment comes with many helpful analytics libraries installed\n",
    "# It is defined by the kaggle/python Docker image: https://github.com/kaggle/docker-python\n",
    "# For example, here's several helpful packages to load\n",
    "%matplotlib inline\n",
    "\n",
    "import numpy as np # linear algebra\n",
    "import pandas as pd # data processing, CSV file I/O (e.g. pd.read_csv)\n",
    "import matplotlib.pyplot as plt\n",
    "from matplotlib.gridspec import GridSpec\n",
    "import seaborn as sns\n",
    "import calendar\n",
    "from datetime import datetime\n",
    "# Input data files are available in the read-only \"../input/\" directory\n",
    "# For example, running this (by clicking run or pressing Shift+Enter) will list all files under the input directory\n"
   ]
  },
  {
   "cell_type": "markdown",
   "id": "a31703df",
   "metadata": {
    "papermill": {
     "duration": 0.02873,
     "end_time": "2023-05-18T16:47:37.244847",
     "exception": false,
     "start_time": "2023-05-18T16:47:37.216117",
     "status": "completed"
    },
    "tags": []
   },
   "source": [
    "# NLP ?"
   ]
  },
  {
   "cell_type": "markdown",
   "id": "42b59785",
   "metadata": {
    "papermill": {
     "duration": 0.028535,
     "end_time": "2023-05-18T16:47:37.302303",
     "exception": false,
     "start_time": "2023-05-18T16:47:37.273768",
     "status": "completed"
    },
    "tags": []
   },
   "source": [
    "**Đọc bộ dữ liệu review**"
   ]
  },
  {
   "cell_type": "code",
   "execution_count": 75,
   "id": "2cd163f4",
   "metadata": {
    "execution": {
     "iopub.execute_input": "2023-05-18T16:47:37.362361Z",
     "iopub.status.busy": "2023-05-18T16:47:37.361952Z",
     "iopub.status.idle": "2023-05-18T16:47:37.803246Z",
     "shell.execute_reply": "2023-05-18T16:47:37.802197Z"
    },
    "papermill": {
     "duration": 0.474734,
     "end_time": "2023-05-18T16:47:37.806068",
     "exception": false,
     "start_time": "2023-05-18T16:47:37.331334",
     "status": "completed"
    },
    "tags": []
   },
   "outputs": [
    {
     "data": {
      "text/html": [
       "<div>\n",
       "<style scoped>\n",
       "    .dataframe tbody tr th:only-of-type {\n",
       "        vertical-align: middle;\n",
       "    }\n",
       "\n",
       "    .dataframe tbody tr th {\n",
       "        vertical-align: top;\n",
       "    }\n",
       "\n",
       "    .dataframe thead th {\n",
       "        text-align: right;\n",
       "    }\n",
       "</style>\n",
       "<table border=\"1\" class=\"dataframe\">\n",
       "  <thead>\n",
       "    <tr style=\"text-align: right;\">\n",
       "      <th></th>\n",
       "      <th>review_id</th>\n",
       "      <th>order_id</th>\n",
       "      <th>review_score</th>\n",
       "      <th>review_comment_title</th>\n",
       "      <th>review_comment_message</th>\n",
       "      <th>review_creation_date</th>\n",
       "      <th>review_answer_timestamp</th>\n",
       "    </tr>\n",
       "  </thead>\n",
       "  <tbody>\n",
       "    <tr>\n",
       "      <th>0</th>\n",
       "      <td>7bc2406110b926393aa56f80a40eba40</td>\n",
       "      <td>73fc7af87114b39712e6da79b0a377eb</td>\n",
       "      <td>4</td>\n",
       "      <td>NaN</td>\n",
       "      <td>NaN</td>\n",
       "      <td>2018-01-18 00:00:00</td>\n",
       "      <td>2018-01-18 21:46:59</td>\n",
       "    </tr>\n",
       "    <tr>\n",
       "      <th>1</th>\n",
       "      <td>80e641a11e56f04c1ad469d5645fdfde</td>\n",
       "      <td>a548910a1c6147796b98fdf73dbeba33</td>\n",
       "      <td>5</td>\n",
       "      <td>NaN</td>\n",
       "      <td>NaN</td>\n",
       "      <td>2018-03-10 00:00:00</td>\n",
       "      <td>2018-03-11 03:05:13</td>\n",
       "    </tr>\n",
       "    <tr>\n",
       "      <th>2</th>\n",
       "      <td>228ce5500dc1d8e020d8d1322874b6f0</td>\n",
       "      <td>f9e4b658b201a9f2ecdecbb34bed034b</td>\n",
       "      <td>5</td>\n",
       "      <td>NaN</td>\n",
       "      <td>NaN</td>\n",
       "      <td>2018-02-17 00:00:00</td>\n",
       "      <td>2018-02-18 14:36:24</td>\n",
       "    </tr>\n",
       "    <tr>\n",
       "      <th>3</th>\n",
       "      <td>e64fb393e7b32834bb789ff8bb30750e</td>\n",
       "      <td>658677c97b385a9be170737859d3511b</td>\n",
       "      <td>5</td>\n",
       "      <td>NaN</td>\n",
       "      <td>Recebi bem antes do prazo estipulado.</td>\n",
       "      <td>2017-04-21 00:00:00</td>\n",
       "      <td>2017-04-21 22:02:06</td>\n",
       "    </tr>\n",
       "    <tr>\n",
       "      <th>4</th>\n",
       "      <td>f7c4243c7fe1938f181bec41a392bdeb</td>\n",
       "      <td>8e6bfb81e283fa7e4f11123a3fb894f1</td>\n",
       "      <td>5</td>\n",
       "      <td>NaN</td>\n",
       "      <td>Parabéns lojas lannister adorei comprar pela I...</td>\n",
       "      <td>2018-03-01 00:00:00</td>\n",
       "      <td>2018-03-02 10:26:53</td>\n",
       "    </tr>\n",
       "    <tr>\n",
       "      <th>...</th>\n",
       "      <td>...</td>\n",
       "      <td>...</td>\n",
       "      <td>...</td>\n",
       "      <td>...</td>\n",
       "      <td>...</td>\n",
       "      <td>...</td>\n",
       "      <td>...</td>\n",
       "    </tr>\n",
       "    <tr>\n",
       "      <th>99219</th>\n",
       "      <td>574ed12dd733e5fa530cfd4bbf39d7c9</td>\n",
       "      <td>2a8c23fee101d4d5662fa670396eb8da</td>\n",
       "      <td>5</td>\n",
       "      <td>NaN</td>\n",
       "      <td>NaN</td>\n",
       "      <td>2018-07-07 00:00:00</td>\n",
       "      <td>2018-07-14 17:18:30</td>\n",
       "    </tr>\n",
       "    <tr>\n",
       "      <th>99220</th>\n",
       "      <td>f3897127253a9592a73be9bdfdf4ed7a</td>\n",
       "      <td>22ec9f0669f784db00fa86d035cf8602</td>\n",
       "      <td>5</td>\n",
       "      <td>NaN</td>\n",
       "      <td>NaN</td>\n",
       "      <td>2017-12-09 00:00:00</td>\n",
       "      <td>2017-12-11 20:06:42</td>\n",
       "    </tr>\n",
       "    <tr>\n",
       "      <th>99221</th>\n",
       "      <td>b3de70c89b1510c4cd3d0649fd302472</td>\n",
       "      <td>55d4004744368f5571d1f590031933e4</td>\n",
       "      <td>5</td>\n",
       "      <td>NaN</td>\n",
       "      <td>Excelente mochila, entrega super rápida. Super...</td>\n",
       "      <td>2018-03-22 00:00:00</td>\n",
       "      <td>2018-03-23 09:10:43</td>\n",
       "    </tr>\n",
       "    <tr>\n",
       "      <th>99222</th>\n",
       "      <td>1adeb9d84d72fe4e337617733eb85149</td>\n",
       "      <td>7725825d039fc1f0ceb7635e3f7d9206</td>\n",
       "      <td>4</td>\n",
       "      <td>NaN</td>\n",
       "      <td>NaN</td>\n",
       "      <td>2018-07-01 00:00:00</td>\n",
       "      <td>2018-07-02 12:59:13</td>\n",
       "    </tr>\n",
       "    <tr>\n",
       "      <th>99223</th>\n",
       "      <td>efe49f1d6f951dd88b51e6ccd4cc548f</td>\n",
       "      <td>90531360ecb1eec2a1fbb265a0db0508</td>\n",
       "      <td>1</td>\n",
       "      <td>NaN</td>\n",
       "      <td>meu produto chegou e ja tenho que devolver, po...</td>\n",
       "      <td>2017-07-03 00:00:00</td>\n",
       "      <td>2017-07-03 21:01:49</td>\n",
       "    </tr>\n",
       "  </tbody>\n",
       "</table>\n",
       "<p>99224 rows × 7 columns</p>\n",
       "</div>"
      ],
      "text/plain": [
       "                              review_id                          order_id  \\\n",
       "0      7bc2406110b926393aa56f80a40eba40  73fc7af87114b39712e6da79b0a377eb   \n",
       "1      80e641a11e56f04c1ad469d5645fdfde  a548910a1c6147796b98fdf73dbeba33   \n",
       "2      228ce5500dc1d8e020d8d1322874b6f0  f9e4b658b201a9f2ecdecbb34bed034b   \n",
       "3      e64fb393e7b32834bb789ff8bb30750e  658677c97b385a9be170737859d3511b   \n",
       "4      f7c4243c7fe1938f181bec41a392bdeb  8e6bfb81e283fa7e4f11123a3fb894f1   \n",
       "...                                 ...                               ...   \n",
       "99219  574ed12dd733e5fa530cfd4bbf39d7c9  2a8c23fee101d4d5662fa670396eb8da   \n",
       "99220  f3897127253a9592a73be9bdfdf4ed7a  22ec9f0669f784db00fa86d035cf8602   \n",
       "99221  b3de70c89b1510c4cd3d0649fd302472  55d4004744368f5571d1f590031933e4   \n",
       "99222  1adeb9d84d72fe4e337617733eb85149  7725825d039fc1f0ceb7635e3f7d9206   \n",
       "99223  efe49f1d6f951dd88b51e6ccd4cc548f  90531360ecb1eec2a1fbb265a0db0508   \n",
       "\n",
       "       review_score review_comment_title  \\\n",
       "0                 4                  NaN   \n",
       "1                 5                  NaN   \n",
       "2                 5                  NaN   \n",
       "3                 5                  NaN   \n",
       "4                 5                  NaN   \n",
       "...             ...                  ...   \n",
       "99219             5                  NaN   \n",
       "99220             5                  NaN   \n",
       "99221             5                  NaN   \n",
       "99222             4                  NaN   \n",
       "99223             1                  NaN   \n",
       "\n",
       "                                  review_comment_message review_creation_date  \\\n",
       "0                                                    NaN  2018-01-18 00:00:00   \n",
       "1                                                    NaN  2018-03-10 00:00:00   \n",
       "2                                                    NaN  2018-02-17 00:00:00   \n",
       "3                  Recebi bem antes do prazo estipulado.  2017-04-21 00:00:00   \n",
       "4      Parabéns lojas lannister adorei comprar pela I...  2018-03-01 00:00:00   \n",
       "...                                                  ...                  ...   \n",
       "99219                                                NaN  2018-07-07 00:00:00   \n",
       "99220                                                NaN  2017-12-09 00:00:00   \n",
       "99221  Excelente mochila, entrega super rápida. Super...  2018-03-22 00:00:00   \n",
       "99222                                                NaN  2018-07-01 00:00:00   \n",
       "99223  meu produto chegou e ja tenho que devolver, po...  2017-07-03 00:00:00   \n",
       "\n",
       "      review_answer_timestamp  \n",
       "0         2018-01-18 21:46:59  \n",
       "1         2018-03-11 03:05:13  \n",
       "2         2018-02-18 14:36:24  \n",
       "3         2017-04-21 22:02:06  \n",
       "4         2018-03-02 10:26:53  \n",
       "...                       ...  \n",
       "99219     2018-07-14 17:18:30  \n",
       "99220     2017-12-11 20:06:42  \n",
       "99221     2018-03-23 09:10:43  \n",
       "99222     2018-07-02 12:59:13  \n",
       "99223     2017-07-03 21:01:49  \n",
       "\n",
       "[99224 rows x 7 columns]"
      ]
     },
     "execution_count": 75,
     "metadata": {},
     "output_type": "execute_result"
    }
   ],
   "source": [
    "df_review = pd.read_csv(\"olist_order_reviews_dataset.csv\")\n",
    "title = df_review['review_comment_title']\n",
    "df_review"
   ]
  },
  {
   "cell_type": "code",
   "execution_count": 76,
   "id": "1150ca5a",
   "metadata": {
    "execution": {
     "iopub.execute_input": "2023-05-18T16:47:40.310365Z",
     "iopub.status.busy": "2023-05-18T16:47:40.309608Z",
     "iopub.status.idle": "2023-05-18T16:47:41.210174Z",
     "shell.execute_reply": "2023-05-18T16:47:41.208700Z"
    },
    "papermill": {
     "duration": 0.936579,
     "end_time": "2023-05-18T16:47:41.212826",
     "exception": false,
     "start_time": "2023-05-18T16:47:40.276247",
     "status": "completed"
    },
    "tags": []
   },
   "outputs": [
    {
     "name": "stderr",
     "output_type": "stream",
     "text": [
      "[nltk_data] Downloading package stopwords to\n",
      "[nltk_data]     C:\\Users\\Administrator\\AppData\\Roaming\\nltk_data...\n",
      "[nltk_data]   Package stopwords is already up-to-date!\n"
     ]
    }
   ],
   "source": [
    "import nltk\n",
    "nltk.download('stopwords')\n",
    "from nltk.corpus import stopwords"
   ]
  },
  {
   "cell_type": "code",
   "execution_count": 77,
   "id": "6f6dd8c3",
   "metadata": {
    "execution": {
     "iopub.execute_input": "2023-05-18T16:47:41.277050Z",
     "iopub.status.busy": "2023-05-18T16:47:41.276583Z",
     "iopub.status.idle": "2023-05-18T16:47:41.292538Z",
     "shell.execute_reply": "2023-05-18T16:47:41.291183Z"
    },
    "papermill": {
     "duration": 0.051358,
     "end_time": "2023-05-18T16:47:41.295301",
     "exception": false,
     "start_time": "2023-05-18T16:47:41.243943",
     "status": "completed"
    },
    "tags": []
   },
   "outputs": [
    {
     "data": {
      "text/plain": [
       "['a',\n",
       " 'à',\n",
       " 'ao',\n",
       " 'aos',\n",
       " 'aquela',\n",
       " 'aquelas',\n",
       " 'aquele',\n",
       " 'aqueles',\n",
       " 'aquilo',\n",
       " 'as',\n",
       " 'às',\n",
       " 'até',\n",
       " 'com',\n",
       " 'como',\n",
       " 'da',\n",
       " 'das',\n",
       " 'de',\n",
       " 'dela',\n",
       " 'delas',\n",
       " 'dele',\n",
       " 'deles',\n",
       " 'depois',\n",
       " 'do',\n",
       " 'dos',\n",
       " 'e',\n",
       " 'é',\n",
       " 'ela',\n",
       " 'elas',\n",
       " 'ele',\n",
       " 'eles',\n",
       " 'em',\n",
       " 'entre',\n",
       " 'era',\n",
       " 'eram',\n",
       " 'éramos',\n",
       " 'essa',\n",
       " 'essas',\n",
       " 'esse',\n",
       " 'esses',\n",
       " 'esta',\n",
       " 'está',\n",
       " 'estamos',\n",
       " 'estão',\n",
       " 'estar',\n",
       " 'estas',\n",
       " 'estava',\n",
       " 'estavam',\n",
       " 'estávamos',\n",
       " 'este',\n",
       " 'esteja',\n",
       " 'estejam',\n",
       " 'estejamos',\n",
       " 'estes',\n",
       " 'esteve',\n",
       " 'estive',\n",
       " 'estivemos',\n",
       " 'estiver',\n",
       " 'estivera',\n",
       " 'estiveram',\n",
       " 'estivéramos',\n",
       " 'estiverem',\n",
       " 'estivermos',\n",
       " 'estivesse',\n",
       " 'estivessem',\n",
       " 'estivéssemos',\n",
       " 'estou',\n",
       " 'eu',\n",
       " 'foi',\n",
       " 'fomos',\n",
       " 'for',\n",
       " 'fora',\n",
       " 'foram',\n",
       " 'fôramos',\n",
       " 'forem',\n",
       " 'formos',\n",
       " 'fosse',\n",
       " 'fossem',\n",
       " 'fôssemos',\n",
       " 'fui',\n",
       " 'há',\n",
       " 'haja',\n",
       " 'hajam',\n",
       " 'hajamos',\n",
       " 'hão',\n",
       " 'havemos',\n",
       " 'haver',\n",
       " 'hei',\n",
       " 'houve',\n",
       " 'houvemos',\n",
       " 'houver',\n",
       " 'houvera',\n",
       " 'houverá',\n",
       " 'houveram',\n",
       " 'houvéramos',\n",
       " 'houverão',\n",
       " 'houverei',\n",
       " 'houverem',\n",
       " 'houveremos',\n",
       " 'houveria',\n",
       " 'houveriam',\n",
       " 'houveríamos',\n",
       " 'houvermos',\n",
       " 'houvesse',\n",
       " 'houvessem',\n",
       " 'houvéssemos',\n",
       " 'isso',\n",
       " 'isto',\n",
       " 'já',\n",
       " 'lhe',\n",
       " 'lhes',\n",
       " 'mais',\n",
       " 'mas',\n",
       " 'me',\n",
       " 'mesmo',\n",
       " 'meu',\n",
       " 'meus',\n",
       " 'minha',\n",
       " 'minhas',\n",
       " 'muito',\n",
       " 'na',\n",
       " 'não',\n",
       " 'nas',\n",
       " 'nem',\n",
       " 'no',\n",
       " 'nos',\n",
       " 'nós',\n",
       " 'nossa',\n",
       " 'nossas',\n",
       " 'nosso',\n",
       " 'nossos',\n",
       " 'num',\n",
       " 'numa',\n",
       " 'o',\n",
       " 'os',\n",
       " 'ou',\n",
       " 'para',\n",
       " 'pela',\n",
       " 'pelas',\n",
       " 'pelo',\n",
       " 'pelos',\n",
       " 'por',\n",
       " 'qual',\n",
       " 'quando',\n",
       " 'que',\n",
       " 'quem',\n",
       " 'são',\n",
       " 'se',\n",
       " 'seja',\n",
       " 'sejam',\n",
       " 'sejamos',\n",
       " 'sem',\n",
       " 'ser',\n",
       " 'será',\n",
       " 'serão',\n",
       " 'serei',\n",
       " 'seremos',\n",
       " 'seria',\n",
       " 'seriam',\n",
       " 'seríamos',\n",
       " 'seu',\n",
       " 'seus',\n",
       " 'só',\n",
       " 'somos',\n",
       " 'sou',\n",
       " 'sua',\n",
       " 'suas',\n",
       " 'também',\n",
       " 'te',\n",
       " 'tem',\n",
       " 'tém',\n",
       " 'temos',\n",
       " 'tenha',\n",
       " 'tenham',\n",
       " 'tenhamos',\n",
       " 'tenho',\n",
       " 'terá',\n",
       " 'terão',\n",
       " 'terei',\n",
       " 'teremos',\n",
       " 'teria',\n",
       " 'teriam',\n",
       " 'teríamos',\n",
       " 'teu',\n",
       " 'teus',\n",
       " 'teve',\n",
       " 'tinha',\n",
       " 'tinham',\n",
       " 'tínhamos',\n",
       " 'tive',\n",
       " 'tivemos',\n",
       " 'tiver',\n",
       " 'tivera',\n",
       " 'tiveram',\n",
       " 'tivéramos',\n",
       " 'tiverem',\n",
       " 'tivermos',\n",
       " 'tivesse',\n",
       " 'tivessem',\n",
       " 'tivéssemos',\n",
       " 'tu',\n",
       " 'tua',\n",
       " 'tuas',\n",
       " 'um',\n",
       " 'uma',\n",
       " 'você',\n",
       " 'vocês',\n",
       " 'vos']"
      ]
     },
     "execution_count": 77,
     "metadata": {},
     "output_type": "execute_result"
    }
   ],
   "source": [
    "stopwords_brazil = stopwords.words(\"portuguese\")\n",
    "#lấy các từ vựng mang ý nghĩa ngắt câu\n",
    "stopwords_brazil"
   ]
  },
  {
   "cell_type": "code",
   "execution_count": 78,
   "id": "098fb442",
   "metadata": {
    "execution": {
     "iopub.execute_input": "2023-05-18T16:47:41.362046Z",
     "iopub.status.busy": "2023-05-18T16:47:41.360592Z",
     "iopub.status.idle": "2023-05-18T16:48:11.928679Z",
     "shell.execute_reply": "2023-05-18T16:48:11.926838Z"
    },
    "papermill": {
     "duration": 30.604518,
     "end_time": "2023-05-18T16:48:11.931643",
     "exception": false,
     "start_time": "2023-05-18T16:47:41.327125",
     "status": "completed"
    },
    "tags": []
   },
   "outputs": [
    {
     "name": "stdout",
     "output_type": "stream",
     "text": [
      "✔ Download and installation successful\n",
      "You can now load the package via spacy.load('pt_core_news_sm')\n"
     ]
    }
   ],
   "source": [
    "import spacy.cli\n",
    "spacy.cli.download(\"pt_core_news_sm\")"
   ]
  },
  {
   "cell_type": "code",
   "execution_count": 79,
   "id": "855655e9",
   "metadata": {
    "execution": {
     "iopub.execute_input": "2023-05-18T16:48:11.999565Z",
     "iopub.status.busy": "2023-05-18T16:48:11.998254Z",
     "iopub.status.idle": "2023-05-18T16:48:12.789521Z",
     "shell.execute_reply": "2023-05-18T16:48:12.787740Z"
    },
    "papermill": {
     "duration": 0.828637,
     "end_time": "2023-05-18T16:48:12.792724",
     "exception": false,
     "start_time": "2023-05-18T16:48:11.964087",
     "status": "completed"
    },
    "tags": []
   },
   "outputs": [],
   "source": [
    "import pt_core_news_sm\n",
    "\n",
    "spc_pt = pt_core_news_sm.load()\n",
    "import re\n",
    "import spacy"
   ]
  },
  {
   "cell_type": "code",
   "execution_count": 80,
   "id": "d1cdb760",
   "metadata": {
    "execution": {
     "iopub.execute_input": "2023-05-18T16:48:12.859937Z",
     "iopub.status.busy": "2023-05-18T16:48:12.859453Z",
     "iopub.status.idle": "2023-05-18T16:48:12.866388Z",
     "shell.execute_reply": "2023-05-18T16:48:12.865418Z"
    },
    "papermill": {
     "duration": 0.044049,
     "end_time": "2023-05-18T16:48:12.869046",
     "exception": false,
     "start_time": "2023-05-18T16:48:12.824997",
     "status": "completed"
    },
    "tags": []
   },
   "outputs": [],
   "source": [
    "def chuan_hoa(text):\n",
    "\n",
    "  text = text.lower()\n",
    "\n",
    "  text = re.sub(r\"[\\W\\d_]+\", \" \", text)\n",
    "\n",
    "  text = [pal for pal in text.split() if pal not in stopwords_brazil]\n",
    "\n",
    "  spc_text = spc_pt(\" \".join(text))\n",
    "  tokens = [word.lemma_ if word.lemma_ != \"-PRON-\" else word.lower_ for word in spc_text]\n",
    "  \n",
    "  return \" \".join(tokens)"
   ]
  },
  {
   "cell_type": "code",
   "execution_count": 81,
   "id": "15c75b14",
   "metadata": {
    "execution": {
     "iopub.execute_input": "2023-05-18T16:48:12.935925Z",
     "iopub.status.busy": "2023-05-18T16:48:12.935183Z",
     "iopub.status.idle": "2023-05-18T16:53:21.862852Z",
     "shell.execute_reply": "2023-05-18T16:53:21.861422Z"
    },
    "papermill": {
     "duration": 308.997684,
     "end_time": "2023-05-18T16:53:21.898920",
     "exception": false,
     "start_time": "2023-05-18T16:48:12.901236",
     "status": "completed"
    },
    "tags": []
   },
   "outputs": [
    {
     "name": "stderr",
     "output_type": "stream",
     "text": [
      "C:\\Users\\ADMINI~1\\AppData\\Local\\Temp/ipykernel_4620/4259674667.py:3: SettingWithCopyWarning: \n",
      "A value is trying to be set on a copy of a slice from a DataFrame.\n",
      "Try using .loc[row_indexer,col_indexer] = value instead\n",
      "\n",
      "See the caveats in the documentation: https://pandas.pydata.org/pandas-docs/stable/user_guide/indexing.html#returning-a-view-versus-a-copy\n",
      "  df_rv['review_comment_message'] = df_rv['review_comment_message'].apply(chuan_hoa)\n"
     ]
    }
   ],
   "source": [
    "#chuẩn hóa các dòng text ở cột dreview_comment_message của dataset \n",
    "df_rv = df_review.dropna(subset = ['review_comment_message'])\n",
    "df_rv['review_comment_message'] = df_rv['review_comment_message'].apply(chuan_hoa)"
   ]
  },
  {
   "cell_type": "code",
   "execution_count": 82,
   "id": "fae8789c",
   "metadata": {
    "execution": {
     "iopub.execute_input": "2023-05-18T16:53:21.967070Z",
     "iopub.status.busy": "2023-05-18T16:53:21.966207Z",
     "iopub.status.idle": "2023-05-18T16:53:30.721761Z",
     "shell.execute_reply": "2023-05-18T16:53:30.720408Z"
    },
    "papermill": {
     "duration": 8.793131,
     "end_time": "2023-05-18T16:53:30.724892",
     "exception": false,
     "start_time": "2023-05-18T16:53:21.931761",
     "status": "completed"
    },
    "tags": []
   },
   "outputs": [],
   "source": [
    "\n",
    "comments = []\n",
    "\n",
    "for words in df_rv['review_comment_message']:\n",
    "    #lại regex\n",
    "    only_letters = re.sub(\"[^a-zA-Z]\", \" \",words)\n",
    "    \n",
    "    tokens = nltk.word_tokenize(only_letters) \n",
    "    \n",
    "    lower_case = [l.lower() for l in tokens] \n",
    "    \n",
    "    filtered_result = list(filter(lambda l: l not in stopwords_brazil, lower_case)) \n",
    "    \n",
    "    comments.append(' '.join(filtered_result))"
   ]
  },
  {
   "cell_type": "code",
   "execution_count": 83,
   "id": "da794881",
   "metadata": {
    "execution": {
     "iopub.execute_input": "2023-05-18T16:53:30.792032Z",
     "iopub.status.busy": "2023-05-18T16:53:30.791591Z",
     "iopub.status.idle": "2023-05-18T16:53:30.800154Z",
     "shell.execute_reply": "2023-05-18T16:53:30.798673Z"
    },
    "papermill": {
     "duration": 0.045334,
     "end_time": "2023-05-18T16:53:30.802559",
     "exception": false,
     "start_time": "2023-05-18T16:53:30.757225",
     "status": "completed"
    },
    "tags": []
   },
   "outputs": [],
   "source": [
    "df_ans = df_rv[['review_score','review_comment_message']]"
   ]
  },
  {
   "cell_type": "code",
   "execution_count": 84,
   "id": "002ddb0c",
   "metadata": {
    "execution": {
     "iopub.execute_input": "2023-05-18T16:53:38.334123Z",
     "iopub.status.busy": "2023-05-18T16:53:38.333384Z",
     "iopub.status.idle": "2023-05-18T16:53:38.343795Z",
     "shell.execute_reply": "2023-05-18T16:53:38.342519Z"
    },
    "papermill": {
     "duration": 0.06224,
     "end_time": "2023-05-18T16:53:38.346462",
     "exception": false,
     "start_time": "2023-05-18T16:53:38.284222",
     "status": "completed"
    },
    "tags": []
   },
   "outputs": [
    {
     "data": {
      "text/plain": [
       "5    20554\n",
       "1     8745\n",
       "4     5976\n",
       "3     3557\n",
       "2     2145\n",
       "Name: review_score, dtype: int64"
      ]
     },
     "execution_count": 84,
     "metadata": {},
     "output_type": "execute_result"
    }
   ],
   "source": [
    "df_ans['review_score'].value_counts()"
   ]
  },
  {
   "cell_type": "code",
   "execution_count": 85,
   "id": "eda4b322",
   "metadata": {
    "execution": {
     "iopub.execute_input": "2023-05-18T16:53:38.445087Z",
     "iopub.status.busy": "2023-05-18T16:53:38.443696Z",
     "iopub.status.idle": "2023-05-18T16:53:38.454461Z",
     "shell.execute_reply": "2023-05-18T16:53:38.453414Z"
    },
    "papermill": {
     "duration": 0.063029,
     "end_time": "2023-05-18T16:53:38.457122",
     "exception": false,
     "start_time": "2023-05-18T16:53:38.394093",
     "status": "completed"
    },
    "tags": []
   },
   "outputs": [],
   "source": [
    "df_neg = df_ans.loc[df_review['review_score'] <= 3] #tách các bình luận tiêu cực\n",
    "df_neg = df_neg.reset_index(drop=True)"
   ]
  },
  {
   "cell_type": "code",
   "execution_count": 86,
   "id": "2215839b",
   "metadata": {
    "execution": {
     "iopub.execute_input": "2023-05-18T16:53:38.556261Z",
     "iopub.status.busy": "2023-05-18T16:53:38.555155Z",
     "iopub.status.idle": "2023-05-18T16:53:38.565624Z",
     "shell.execute_reply": "2023-05-18T16:53:38.564490Z"
    },
    "papermill": {
     "duration": 0.063374,
     "end_time": "2023-05-18T16:53:38.568346",
     "exception": false,
     "start_time": "2023-05-18T16:53:38.504972",
     "status": "completed"
    },
    "tags": []
   },
   "outputs": [],
   "source": [
    "df_pos = df_ans.loc[df_review['review_score'] >= 4] #tách các bình luận tích cực\n",
    "df_pos = df_pos.reset_index(drop=True)"
   ]
  },
  {
   "cell_type": "code",
   "execution_count": 87,
   "id": "4587d383",
   "metadata": {
    "execution": {
     "iopub.execute_input": "2023-05-18T16:53:38.668131Z",
     "iopub.status.busy": "2023-05-18T16:53:38.667289Z",
     "iopub.status.idle": "2023-05-18T16:53:38.682344Z",
     "shell.execute_reply": "2023-05-18T16:53:38.681028Z"
    },
    "papermill": {
     "duration": 0.069129,
     "end_time": "2023-05-18T16:53:38.685417",
     "exception": false,
     "start_time": "2023-05-18T16:53:38.616288",
     "status": "completed"
    },
    "tags": []
   },
   "outputs": [
    {
     "data": {
      "text/html": [
       "<div>\n",
       "<style scoped>\n",
       "    .dataframe tbody tr th:only-of-type {\n",
       "        vertical-align: middle;\n",
       "    }\n",
       "\n",
       "    .dataframe tbody tr th {\n",
       "        vertical-align: top;\n",
       "    }\n",
       "\n",
       "    .dataframe thead th {\n",
       "        text-align: right;\n",
       "    }\n",
       "</style>\n",
       "<table border=\"1\" class=\"dataframe\">\n",
       "  <thead>\n",
       "    <tr style=\"text-align: right;\">\n",
       "      <th></th>\n",
       "      <th>review_score</th>\n",
       "      <th>review_comment_message</th>\n",
       "    </tr>\n",
       "  </thead>\n",
       "  <tbody>\n",
       "    <tr>\n",
       "      <th>0</th>\n",
       "      <td>5</td>\n",
       "      <td>recebi bem antes prazo estipular</td>\n",
       "    </tr>\n",
       "    <tr>\n",
       "      <th>1</th>\n",
       "      <td>5</td>\n",
       "      <td>parabén lojo lannister adorei comprar Internet...</td>\n",
       "    </tr>\n",
       "    <tr>\n",
       "      <th>2</th>\n",
       "      <td>4</td>\n",
       "      <td>aparelho eficiente site marcar aparelho impres...</td>\n",
       "    </tr>\n",
       "    <tr>\n",
       "      <th>3</th>\n",
       "      <td>4</td>\n",
       "      <td>pouco travar valor ta bom</td>\n",
       "    </tr>\n",
       "    <tr>\n",
       "      <th>4</th>\n",
       "      <td>5</td>\n",
       "      <td>vendedor confiável produto ok entregar antes p...</td>\n",
       "    </tr>\n",
       "    <tr>\n",
       "      <th>...</th>\n",
       "      <td>...</td>\n",
       "      <td>...</td>\n",
       "    </tr>\n",
       "    <tr>\n",
       "      <th>14442</th>\n",
       "      <td>4</td>\n",
       "      <td>tudo conforme ainda usei vir acordo visualizar...</td>\n",
       "    </tr>\n",
       "    <tr>\n",
       "      <th>14443</th>\n",
       "      <td>5</td>\n",
       "      <td>produto entregar bem antes prazo tudo ordem ot...</td>\n",
       "    </tr>\n",
       "    <tr>\n",
       "      <th>14444</th>\n",
       "      <td>4</td>\n",
       "      <td>produtar bom qualidade entregar prazo combinar...</td>\n",
       "    </tr>\n",
       "    <tr>\n",
       "      <th>14445</th>\n",
       "      <td>5</td>\n",
       "      <td>bom negócio</td>\n",
       "    </tr>\n",
       "    <tr>\n",
       "      <th>14446</th>\n",
       "      <td>4</td>\n",
       "      <td>so probleminha caeiro montado ficar bamba</td>\n",
       "    </tr>\n",
       "  </tbody>\n",
       "</table>\n",
       "<p>14447 rows × 2 columns</p>\n",
       "</div>"
      ],
      "text/plain": [
       "       review_score                             review_comment_message\n",
       "0                 5                   recebi bem antes prazo estipular\n",
       "1                 5  parabén lojo lannister adorei comprar Internet...\n",
       "2                 4  aparelho eficiente site marcar aparelho impres...\n",
       "3                 4                          pouco travar valor ta bom\n",
       "4                 5  vendedor confiável produto ok entregar antes p...\n",
       "...             ...                                                ...\n",
       "14442             4  tudo conforme ainda usei vir acordo visualizar...\n",
       "14443             5  produto entregar bem antes prazo tudo ordem ot...\n",
       "14444             4  produtar bom qualidade entregar prazo combinar...\n",
       "14445             5                                        bom negócio\n",
       "14446             4          so probleminha caeiro montado ficar bamba\n",
       "\n",
       "[14447 rows x 2 columns]"
      ]
     },
     "execution_count": 87,
     "metadata": {},
     "output_type": "execute_result"
    }
   ],
   "source": [
    "df_pos = df_pos.loc[:len(df_neg)-1] #vì số lượng quá chênh lệch nên điều chỉnh lại size của 2 lớp dữ liệu\n",
    "df_pos"
   ]
  },
  {
   "cell_type": "code",
   "execution_count": 88,
   "id": "4a2a4b7f",
   "metadata": {
    "execution": {
     "iopub.execute_input": "2023-05-18T16:53:38.787043Z",
     "iopub.status.busy": "2023-05-18T16:53:38.786556Z",
     "iopub.status.idle": "2023-05-18T16:53:38.805489Z",
     "shell.execute_reply": "2023-05-18T16:53:38.803567Z"
    },
    "papermill": {
     "duration": 0.073453,
     "end_time": "2023-05-18T16:53:38.808602",
     "exception": false,
     "start_time": "2023-05-18T16:53:38.735149",
     "status": "completed"
    },
    "tags": []
   },
   "outputs": [],
   "source": [
    "df_ans = pd.concat([df_pos, df_neg], axis = 0) #tạo dataset mới từ 2 lớp dữ liệu đã được điều chỉnh\n",
    "df_ans = df_ans.reset_index(drop = True)"
   ]
  },
  {
   "cell_type": "code",
   "execution_count": 89,
   "id": "4bb24e1f",
   "metadata": {
    "execution": {
     "iopub.execute_input": "2023-05-18T16:53:38.909599Z",
     "iopub.status.busy": "2023-05-18T16:53:38.908790Z",
     "iopub.status.idle": "2023-05-18T16:53:38.929304Z",
     "shell.execute_reply": "2023-05-18T16:53:38.928193Z"
    },
    "papermill": {
     "duration": 0.07395,
     "end_time": "2023-05-18T16:53:38.932084",
     "exception": false,
     "start_time": "2023-05-18T16:53:38.858134",
     "status": "completed"
    },
    "tags": []
   },
   "outputs": [
    {
     "data": {
      "text/html": [
       "<div>\n",
       "<style scoped>\n",
       "    .dataframe tbody tr th:only-of-type {\n",
       "        vertical-align: middle;\n",
       "    }\n",
       "\n",
       "    .dataframe tbody tr th {\n",
       "        vertical-align: top;\n",
       "    }\n",
       "\n",
       "    .dataframe thead th {\n",
       "        text-align: right;\n",
       "    }\n",
       "</style>\n",
       "<table border=\"1\" class=\"dataframe\">\n",
       "  <thead>\n",
       "    <tr style=\"text-align: right;\">\n",
       "      <th></th>\n",
       "      <th>review_score</th>\n",
       "      <th>review_comment_message</th>\n",
       "      <th>Sentiments</th>\n",
       "    </tr>\n",
       "  </thead>\n",
       "  <tbody>\n",
       "    <tr>\n",
       "      <th>0</th>\n",
       "      <td>5</td>\n",
       "      <td>recebi bem antes prazo estipular</td>\n",
       "      <td>Positive</td>\n",
       "    </tr>\n",
       "    <tr>\n",
       "      <th>1</th>\n",
       "      <td>5</td>\n",
       "      <td>parabén lojo lannister adorei comprar Internet...</td>\n",
       "      <td>Positive</td>\n",
       "    </tr>\n",
       "    <tr>\n",
       "      <th>2</th>\n",
       "      <td>4</td>\n",
       "      <td>aparelho eficiente site marcar aparelho impres...</td>\n",
       "      <td>Positive</td>\n",
       "    </tr>\n",
       "    <tr>\n",
       "      <th>3</th>\n",
       "      <td>4</td>\n",
       "      <td>pouco travar valor ta bom</td>\n",
       "      <td>Positive</td>\n",
       "    </tr>\n",
       "    <tr>\n",
       "      <th>4</th>\n",
       "      <td>5</td>\n",
       "      <td>vendedor confiável produto ok entregar antes p...</td>\n",
       "      <td>Positive</td>\n",
       "    </tr>\n",
       "    <tr>\n",
       "      <th>...</th>\n",
       "      <td>...</td>\n",
       "      <td>...</td>\n",
       "      <td>...</td>\n",
       "    </tr>\n",
       "    <tr>\n",
       "      <th>28889</th>\n",
       "      <td>3</td>\n",
       "      <td>bom dia unidade comprar recebi unidade aguarda...</td>\n",
       "      <td>Negative</td>\n",
       "    </tr>\n",
       "    <tr>\n",
       "      <th>28890</th>\n",
       "      <td>2</td>\n",
       "      <td>foto diferente principalmente graninhar sintét...</td>\n",
       "      <td>Negative</td>\n",
       "    </tr>\n",
       "    <tr>\n",
       "      <th>28891</th>\n",
       "      <td>2</td>\n",
       "      <td>problema entregar correio colocar site entrega...</td>\n",
       "      <td>Negative</td>\n",
       "    </tr>\n",
       "    <tr>\n",
       "      <th>28892</th>\n",
       "      <td>3</td>\n",
       "      <td>produto enviar nf existir venda nf certeza fic...</td>\n",
       "      <td>Negative</td>\n",
       "    </tr>\n",
       "    <tr>\n",
       "      <th>28893</th>\n",
       "      <td>1</td>\n",
       "      <td>produto chegar ja devolver pois defeito segura...</td>\n",
       "      <td>Negative</td>\n",
       "    </tr>\n",
       "  </tbody>\n",
       "</table>\n",
       "<p>28894 rows × 3 columns</p>\n",
       "</div>"
      ],
      "text/plain": [
       "       review_score                             review_comment_message  \\\n",
       "0                 5                   recebi bem antes prazo estipular   \n",
       "1                 5  parabén lojo lannister adorei comprar Internet...   \n",
       "2                 4  aparelho eficiente site marcar aparelho impres...   \n",
       "3                 4                          pouco travar valor ta bom   \n",
       "4                 5  vendedor confiável produto ok entregar antes p...   \n",
       "...             ...                                                ...   \n",
       "28889             3  bom dia unidade comprar recebi unidade aguarda...   \n",
       "28890             2  foto diferente principalmente graninhar sintét...   \n",
       "28891             2  problema entregar correio colocar site entrega...   \n",
       "28892             3  produto enviar nf existir venda nf certeza fic...   \n",
       "28893             1  produto chegar ja devolver pois defeito segura...   \n",
       "\n",
       "      Sentiments  \n",
       "0       Positive  \n",
       "1       Positive  \n",
       "2       Positive  \n",
       "3       Positive  \n",
       "4       Positive  \n",
       "...          ...  \n",
       "28889   Negative  \n",
       "28890   Negative  \n",
       "28891   Negative  \n",
       "28892   Negative  \n",
       "28893   Negative  \n",
       "\n",
       "[28894 rows x 3 columns]"
      ]
     },
     "execution_count": 89,
     "metadata": {},
     "output_type": "execute_result"
    }
   ],
   "source": [
    "df_ans[\"Sentiments\"] = np.where(df_ans[\"review_score\"] >= 4,\"Positive\" ,\"Negative\") #Tạo cột Sentiment\n",
    "df_ans"
   ]
  },
  {
   "cell_type": "code",
   "execution_count": 90,
   "id": "605844a1",
   "metadata": {
    "execution": {
     "iopub.execute_input": "2023-05-18T16:53:39.033752Z",
     "iopub.status.busy": "2023-05-18T16:53:39.032968Z",
     "iopub.status.idle": "2023-05-18T16:53:39.047434Z",
     "shell.execute_reply": "2023-05-18T16:53:39.046022Z"
    },
    "papermill": {
     "duration": 0.068549,
     "end_time": "2023-05-18T16:53:39.050546",
     "exception": false,
     "start_time": "2023-05-18T16:53:38.981997",
     "status": "completed"
    },
    "tags": []
   },
   "outputs": [],
   "source": [
    "from sklearn.model_selection import train_test_split #Tiến hành chia tập để train và test\n",
    "x_train, x_test, y_train, y_test = train_test_split(df_ans.review_comment_message, df_ans.Sentiments)"
   ]
  },
  {
   "cell_type": "code",
   "execution_count": 91,
   "id": "b0893321",
   "metadata": {
    "execution": {
     "iopub.execute_input": "2023-05-18T16:53:39.150024Z",
     "iopub.status.busy": "2023-05-18T16:53:39.149112Z",
     "iopub.status.idle": "2023-05-18T16:53:39.599344Z",
     "shell.execute_reply": "2023-05-18T16:53:39.598015Z"
    },
    "papermill": {
     "duration": 0.50386,
     "end_time": "2023-05-18T16:53:39.602679",
     "exception": false,
     "start_time": "2023-05-18T16:53:39.098819",
     "status": "completed"
    },
    "tags": []
   },
   "outputs": [],
   "source": [
    "from sklearn.feature_extraction.text import CountVectorizer\n",
    "v = CountVectorizer()\n",
    "x_train_vec = v.fit_transform(x_train)\n",
    "x_test_vec = v.transform(x_test)"
   ]
  },
  {
   "cell_type": "code",
   "execution_count": 92,
   "id": "6e9608f5",
   "metadata": {
    "execution": {
     "iopub.execute_input": "2023-05-18T16:53:39.703033Z",
     "iopub.status.busy": "2023-05-18T16:53:39.702117Z",
     "iopub.status.idle": "2023-05-18T16:53:39.710028Z",
     "shell.execute_reply": "2023-05-18T16:53:39.708864Z"
    },
    "papermill": {
     "duration": 0.061346,
     "end_time": "2023-05-18T16:53:39.712563",
     "exception": false,
     "start_time": "2023-05-18T16:53:39.651217",
     "status": "completed"
    },
    "tags": []
   },
   "outputs": [
    {
     "data": {
      "text/plain": [
       "(21670,)"
      ]
     },
     "execution_count": 92,
     "metadata": {},
     "output_type": "execute_result"
    }
   ],
   "source": [
    "x_train.shape #Kích thước của bộ dữ liệu"
   ]
  },
  {
   "cell_type": "code",
   "execution_count": 93,
   "id": "37a850b3",
   "metadata": {
    "execution": {
     "iopub.execute_input": "2023-05-18T16:53:39.812680Z",
     "iopub.status.busy": "2023-05-18T16:53:39.812210Z",
     "iopub.status.idle": "2023-05-18T16:54:18.558763Z",
     "shell.execute_reply": "2023-05-18T16:54:18.557700Z"
    },
    "papermill": {
     "duration": 38.847678,
     "end_time": "2023-05-18T16:54:18.609354",
     "exception": false,
     "start_time": "2023-05-18T16:53:39.761676",
     "status": "completed"
    },
    "tags": []
   },
   "outputs": [
    {
     "data": {
      "text/plain": [
       "SVC(kernel='linear')"
      ]
     },
     "execution_count": 93,
     "metadata": {},
     "output_type": "execute_result"
    }
   ],
   "source": [
    "from sklearn import svm\n",
    "clf_svm = svm.SVC(kernel=\"linear\") #ở đây chọn bộ phân lớp SVM tuyến tính\n",
    "clf_svm.fit(x_train_vec, y_train)"
   ]
  },
  {
   "cell_type": "code",
   "execution_count": 94,
   "id": "c05711f4",
   "metadata": {
    "execution": {
     "iopub.execute_input": "2023-05-18T16:54:18.712419Z",
     "iopub.status.busy": "2023-05-18T16:54:18.711949Z",
     "iopub.status.idle": "2023-05-18T16:54:22.011305Z",
     "shell.execute_reply": "2023-05-18T16:54:22.009927Z"
    },
    "papermill": {
     "duration": 3.354911,
     "end_time": "2023-05-18T16:54:22.014276",
     "exception": false,
     "start_time": "2023-05-18T16:54:18.659365",
     "status": "completed"
    },
    "tags": []
   },
   "outputs": [
    {
     "data": {
      "text/plain": [
       "0.8707087486157253"
      ]
     },
     "execution_count": 94,
     "metadata": {},
     "output_type": "execute_result"
    }
   ],
   "source": [
    "clf_svm.score(x_test_vec, y_test) #Tính độ chính xác cua mô hình"
   ]
  },
  {
   "cell_type": "code",
   "execution_count": 95,
   "id": "6c367eb8",
   "metadata": {
    "execution": {
     "iopub.execute_input": "2023-05-18T16:54:22.116367Z",
     "iopub.status.busy": "2023-05-18T16:54:22.115227Z",
     "iopub.status.idle": "2023-05-18T16:54:25.487299Z",
     "shell.execute_reply": "2023-05-18T16:54:25.486032Z"
    },
    "papermill": {
     "duration": 3.426042,
     "end_time": "2023-05-18T16:54:25.490046",
     "exception": false,
     "start_time": "2023-05-18T16:54:22.064004",
     "status": "completed"
    },
    "tags": []
   },
   "outputs": [
    {
     "data": {
      "text/plain": [
       "array([0.86679977, 0.87439484])"
      ]
     },
     "execution_count": 95,
     "metadata": {},
     "output_type": "execute_result"
    }
   ],
   "source": [
    "from sklearn.metrics import f1_score\n",
    "f1_score(y_test, clf_svm.predict(x_test_vec),average=None)"
   ]
  },
  {
   "cell_type": "markdown",
   "id": "c69fe3d2",
   "metadata": {
    "papermill": {
     "duration": 0.049329,
     "end_time": "2023-05-18T16:54:25.589956",
     "exception": false,
     "start_time": "2023-05-18T16:54:25.540627",
     "status": "completed"
    },
    "tags": []
   },
   "source": [
    "**pos example**"
   ]
  },
  {
   "cell_type": "code",
   "execution_count": 96,
   "id": "b07817d5",
   "metadata": {
    "execution": {
     "iopub.execute_input": "2023-05-18T16:54:25.691677Z",
     "iopub.status.busy": "2023-05-18T16:54:25.691201Z",
     "iopub.status.idle": "2023-05-18T16:54:25.701665Z",
     "shell.execute_reply": "2023-05-18T16:54:25.700601Z"
    },
    "papermill": {
     "duration": 0.064894,
     "end_time": "2023-05-18T16:54:25.704382",
     "exception": false,
     "start_time": "2023-05-18T16:54:25.639488",
     "status": "completed"
    },
    "tags": []
   },
   "outputs": [
    {
     "data": {
      "text/plain": [
       "array(['Positive'], dtype=object)"
      ]
     },
     "execution_count": 96,
     "metadata": {},
     "output_type": "execute_result"
    }
   ],
   "source": [
    "rev = [\"essa loja é muito boa\"] #ví dụ predict 1 đoạn text positive\n",
    "rev_vec = v.transform(rev)\n",
    "clf_svm.predict(rev_vec)"
   ]
  },
  {
   "cell_type": "markdown",
   "id": "551ceeed",
   "metadata": {
    "papermill": {
     "duration": 0.049928,
     "end_time": "2023-05-18T16:54:25.803931",
     "exception": false,
     "start_time": "2023-05-18T16:54:25.754003",
     "status": "completed"
    },
    "tags": []
   },
   "source": [
    "**neg example**"
   ]
  },
  {
   "cell_type": "code",
   "execution_count": 97,
   "id": "f80bb785",
   "metadata": {
    "execution": {
     "iopub.execute_input": "2023-05-18T16:54:25.906541Z",
     "iopub.status.busy": "2023-05-18T16:54:25.906070Z",
     "iopub.status.idle": "2023-05-18T16:54:25.915310Z",
     "shell.execute_reply": "2023-05-18T16:54:25.914423Z"
    },
    "papermill": {
     "duration": 0.064095,
     "end_time": "2023-05-18T16:54:25.918097",
     "exception": false,
     "start_time": "2023-05-18T16:54:25.854002",
     "status": "completed"
    },
    "tags": []
   },
   "outputs": [
    {
     "data": {
      "text/plain": [
       "array(['Negative'], dtype=object)"
      ]
     },
     "execution_count": 97,
     "metadata": {},
     "output_type": "execute_result"
    }
   ],
   "source": [
    "rev = [\"essa loja é muito ruim\"] #ví dụ predict 1 đoạn text negative\n",
    "rev_vec = v.transform(rev)\n",
    "clf_svm.predict(rev_vec)"
   ]
  },
  {
   "cell_type": "markdown",
   "id": "6c1eec18",
   "metadata": {
    "papermill": {
     "duration": 0.049276,
     "end_time": "2023-05-18T16:54:26.020823",
     "exception": false,
     "start_time": "2023-05-18T16:54:25.971547",
     "status": "completed"
    },
    "tags": []
   },
   "source": [
    "**Tiếp theo ta sẽ sử dụng model vừa được train trên bộ dữ liệu tiếng Brazil để dự đoán text từ các ngôn ngữ khác. Tuy nhiên ta phải chấp nhận rằng mỗi ngôn ngữ có 1 cách biểu đạt khác nhau nên đoạn mã dưới đây không thể đảm bảo độ chính xác 1 cách hoàn toàn**"
   ]
  },
  {
   "cell_type": "code",
   "execution_count": 98,
   "id": "906af134",
   "metadata": {
    "execution": {
     "iopub.execute_input": "2023-05-18T16:54:26.122495Z",
     "iopub.status.busy": "2023-05-18T16:54:26.122042Z",
     "iopub.status.idle": "2023-05-18T16:54:40.275308Z",
     "shell.execute_reply": "2023-05-18T16:54:40.273608Z"
    },
    "papermill": {
     "duration": 14.20744,
     "end_time": "2023-05-18T16:54:40.278022",
     "exception": false,
     "start_time": "2023-05-18T16:54:26.070582",
     "status": "completed"
    },
    "tags": []
   },
   "outputs": [
    {
     "name": "stdout",
     "output_type": "stream",
     "text": [
      "Requirement already satisfied: deep-translator in c:\\users\\administrator\\appdata\\local\\programs\\python\\python39\\lib\\site-packages (1.11.0)\n",
      "Requirement already satisfied: beautifulsoup4<5.0.0,>=4.9.1 in c:\\users\\administrator\\appdata\\local\\programs\\python\\python39\\lib\\site-packages (from deep-translator) (4.9.3)\n",
      "Requirement already satisfied: requests<3.0.0,>=2.23.0 in c:\\users\\administrator\\appdata\\local\\programs\\python\\python39\\lib\\site-packages (from deep-translator) (2.25.1)\n",
      "Requirement already satisfied: soupsieve>1.2 in c:\\users\\administrator\\appdata\\local\\programs\\python\\python39\\lib\\site-packages (from beautifulsoup4<5.0.0,>=4.9.1->deep-translator) (2.1)\n",
      "Requirement already satisfied: chardet<5,>=3.0.2 in c:\\users\\administrator\\appdata\\local\\programs\\python\\python39\\lib\\site-packages (from requests<3.0.0,>=2.23.0->deep-translator) (4.0.0)\n",
      "Requirement already satisfied: idna<3,>=2.5 in c:\\users\\administrator\\appdata\\local\\programs\\python\\python39\\lib\\site-packages (from requests<3.0.0,>=2.23.0->deep-translator) (2.10)\n",
      "Requirement already satisfied: urllib3<1.27,>=1.21.1 in c:\\users\\administrator\\appdata\\local\\programs\\python\\python39\\lib\\site-packages (from requests<3.0.0,>=2.23.0->deep-translator) (1.26.3)\n",
      "Requirement already satisfied: certifi>=2017.4.17 in c:\\users\\administrator\\appdata\\local\\programs\\python\\python39\\lib\\site-packages (from requests<3.0.0,>=2.23.0->deep-translator) (2020.12.5)\n",
      "Note: you may need to restart the kernel to use updated packages.\n"
     ]
    }
   ],
   "source": [
    "pip install -U deep-translator"
   ]
  },
  {
   "cell_type": "code",
   "execution_count": 99,
   "id": "4948494e",
   "metadata": {
    "execution": {
     "iopub.execute_input": "2023-05-18T16:54:40.381247Z",
     "iopub.status.busy": "2023-05-18T16:54:40.380226Z",
     "iopub.status.idle": "2023-05-18T16:54:41.258131Z",
     "shell.execute_reply": "2023-05-18T16:54:41.256842Z"
    },
    "papermill": {
     "duration": 0.932823,
     "end_time": "2023-05-18T16:54:41.260834",
     "exception": false,
     "start_time": "2023-05-18T16:54:40.328011",
     "status": "completed"
    },
    "tags": []
   },
   "outputs": [],
   "source": [
    "from deep_translator import GoogleTranslator"
   ]
  },
  {
   "cell_type": "code",
   "execution_count": 100,
   "id": "2bf90116",
   "metadata": {
    "execution": {
     "iopub.execute_input": "2023-05-18T16:54:41.364135Z",
     "iopub.status.busy": "2023-05-18T16:54:41.362101Z",
     "iopub.status.idle": "2023-05-18T16:54:48.578310Z",
     "shell.execute_reply": "2023-05-18T16:54:48.577089Z"
    },
    "papermill": {
     "duration": 7.2708,
     "end_time": "2023-05-18T16:54:48.581415",
     "exception": false,
     "start_time": "2023-05-18T16:54:41.310615",
     "status": "completed"
    },
    "tags": []
   },
   "outputs": [],
   "source": [
    "df_nlp = pd.read_excel('ex.xlsx') #đọc file chứa các text ngẫu nhiên\n",
    "\n",
    "exxx = [] \n",
    "\n",
    "for i in range(len(df_nlp['Content'])):\n",
    "    rev = []\n",
    "    text_in = df_nlp['Content'][i]\n",
    "    text_out = GoogleTranslator(source='auto', target='pt').translate(text_in) #Dịch ngôn ngữ sang tiếng Brazil để khớp với không gian vector được xây dựng từ tập train\n",
    "    rev.append(text_out)\n",
    "    rev_vec = v.transform(rev)\n",
    "    t = clf_svm.predict(rev_vec)\n",
    "    exxx.append(str(t))\n",
    "\n",
    "\n",
    "df_nlp['ex'] = exxx #Cột sentiment của tập dữ liệu"
   ]
  },
  {
   "cell_type": "code",
   "execution_count": 101,
   "id": "63fb8288",
   "metadata": {
    "execution": {
     "iopub.execute_input": "2023-05-18T16:54:48.685902Z",
     "iopub.status.busy": "2023-05-18T16:54:48.685295Z",
     "iopub.status.idle": "2023-05-18T16:54:48.698634Z",
     "shell.execute_reply": "2023-05-18T16:54:48.697264Z"
    },
    "papermill": {
     "duration": 0.068394,
     "end_time": "2023-05-18T16:54:48.701168",
     "exception": false,
     "start_time": "2023-05-18T16:54:48.632774",
     "status": "completed"
    },
    "tags": []
   },
   "outputs": [
    {
     "data": {
      "text/html": [
       "<div>\n",
       "<style scoped>\n",
       "    .dataframe tbody tr th:only-of-type {\n",
       "        vertical-align: middle;\n",
       "    }\n",
       "\n",
       "    .dataframe tbody tr th {\n",
       "        vertical-align: top;\n",
       "    }\n",
       "\n",
       "    .dataframe thead th {\n",
       "        text-align: right;\n",
       "    }\n",
       "</style>\n",
       "<table border=\"1\" class=\"dataframe\">\n",
       "  <thead>\n",
       "    <tr style=\"text-align: right;\">\n",
       "      <th></th>\n",
       "      <th>Content</th>\n",
       "      <th>ex</th>\n",
       "    </tr>\n",
       "  </thead>\n",
       "  <tbody>\n",
       "    <tr>\n",
       "      <th>0</th>\n",
       "      <td>haha haha haha haha</td>\n",
       "      <td>['Positive']</td>\n",
       "    </tr>\n",
       "    <tr>\n",
       "      <th>1</th>\n",
       "      <td>cửa hàng này rất tệ</td>\n",
       "      <td>['Negative']</td>\n",
       "    </tr>\n",
       "    <tr>\n",
       "      <th>2</th>\n",
       "      <td>cửa hàng này rất tốt</td>\n",
       "      <td>['Positive']</td>\n",
       "    </tr>\n",
       "    <tr>\n",
       "      <th>3</th>\n",
       "      <td>my favourite shop</td>\n",
       "      <td>['Positive']</td>\n",
       "    </tr>\n",
       "    <tr>\n",
       "      <th>4</th>\n",
       "      <td>thái độ không chuyên nghiệp</td>\n",
       "      <td>['Positive']</td>\n",
       "    </tr>\n",
       "    <tr>\n",
       "      <th>5</th>\n",
       "      <td>như vậy là không được</td>\n",
       "      <td>['Positive']</td>\n",
       "    </tr>\n",
       "    <tr>\n",
       "      <th>6</th>\n",
       "      <td>I hate this shit</td>\n",
       "      <td>['Negative']</td>\n",
       "    </tr>\n",
       "    <tr>\n",
       "      <th>7</th>\n",
       "      <td>非常に高速</td>\n",
       "      <td>['Positive']</td>\n",
       "    </tr>\n",
       "    <tr>\n",
       "      <th>8</th>\n",
       "      <td>遅すぎる</td>\n",
       "      <td>['Negative']</td>\n",
       "    </tr>\n",
       "    <tr>\n",
       "      <th>9</th>\n",
       "      <td>Super</td>\n",
       "      <td>['Positive']</td>\n",
       "    </tr>\n",
       "    <tr>\n",
       "      <th>10</th>\n",
       "      <td>mauvais</td>\n",
       "      <td>['Negative']</td>\n",
       "    </tr>\n",
       "  </tbody>\n",
       "</table>\n",
       "</div>"
      ],
      "text/plain": [
       "                        Content            ex\n",
       "0           haha haha haha haha  ['Positive']\n",
       "1           cửa hàng này rất tệ  ['Negative']\n",
       "2          cửa hàng này rất tốt  ['Positive']\n",
       "3             my favourite shop  ['Positive']\n",
       "4   thái độ không chuyên nghiệp  ['Positive']\n",
       "5         như vậy là không được  ['Positive']\n",
       "6              I hate this shit  ['Negative']\n",
       "7                         非常に高速  ['Positive']\n",
       "8                          遅すぎる  ['Negative']\n",
       "9                         Super  ['Positive']\n",
       "10                      mauvais  ['Negative']"
      ]
     },
     "execution_count": 101,
     "metadata": {},
     "output_type": "execute_result"
    }
   ],
   "source": [
    "df_nlp"
   ]
  },
  {
   "cell_type": "code",
   "execution_count": 102,
   "id": "9894bd11",
   "metadata": {},
   "outputs": [],
   "source": [
    "import pickle"
   ]
  },
  {
   "cell_type": "code",
   "execution_count": 103,
   "id": "cadbd6ac",
   "metadata": {},
   "outputs": [],
   "source": [
    "filename = 'trained_model.sav'\n",
    "pickle.dump(clf_svm, open(filename, 'wb'))"
   ]
  },
  {
   "cell_type": "code",
   "execution_count": 104,
   "id": "a6563275",
   "metadata": {},
   "outputs": [],
   "source": [
    "filename = 'vector_conv.sav'\n",
    "pickle.dump(v, open(filename, 'wb'))"
   ]
  },
  {
   "cell_type": "code",
   "execution_count": 105,
   "id": "9badf81c",
   "metadata": {},
   "outputs": [],
   "source": [
    "# loading the saved model\n",
    "loaded_model = pickle.load(open('trained_model.sav', 'rb'))"
   ]
  }
 ],
 "metadata": {
  "kernelspec": {
   "display_name": "Python 3.9.1 64-bit",
   "language": "python",
   "name": "python3"
  },
  "language_info": {
   "codemirror_mode": {
    "name": "ipython",
    "version": 3
   },
   "file_extension": ".py",
   "mimetype": "text/x-python",
   "name": "python",
   "nbconvert_exporter": "python",
   "pygments_lexer": "ipython3",
   "version": "3.9.1"
  },
  "papermill": {
   "default_parameters": {},
   "duration": 458.782494,
   "end_time": "2023-05-18T16:54:51.375620",
   "environment_variables": {},
   "exception": null,
   "input_path": "__notebook__.ipynb",
   "output_path": "__notebook__.ipynb",
   "parameters": {},
   "start_time": "2023-05-18T16:47:12.593126",
   "version": "2.4.0"
  },
  "vscode": {
   "interpreter": {
    "hash": "6fff98fc3b3d81bd655c2cc48858186e4d9e2db7b515bf1c3221888f12a62f87"
   }
  }
 },
 "nbformat": 4,
 "nbformat_minor": 5
}

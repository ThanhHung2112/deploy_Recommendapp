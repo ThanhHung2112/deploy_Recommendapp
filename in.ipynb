{
 "cells": [
  {
   "cell_type": "code",
   "execution_count": 4,
   "metadata": {},
   "outputs": [
    {
     "name": "stdout",
     "output_type": "stream",
     "text": [
      "Collecting mlxtend\n",
      "  Downloading mlxtend-0.22.0-py2.py3-none-any.whl (1.4 MB)\n",
      "                                              0.0/1.4 MB ? eta -:--:--\n",
      "     --                                       0.1/1.4 MB 1.1 MB/s eta 0:00:02\n",
      "     -------                                  0.3/1.4 MB 2.2 MB/s eta 0:00:01\n",
      "     -------------------                      0.7/1.4 MB 3.8 MB/s eta 0:00:01\n",
      "     ------------------------------------     1.2/1.4 MB 5.3 MB/s eta 0:00:01\n",
      "     ---------------------------------------- 1.4/1.4 MB 5.0 MB/s eta 0:00:00\n",
      "Requirement already satisfied: scipy>=1.2.1 in c:\\users\\sysme hue\\appdata\\local\\programs\\python\\python310\\lib\\site-packages (from mlxtend) (1.10.1)\n",
      "Requirement already satisfied: numpy>=1.16.2 in c:\\users\\sysme hue\\appdata\\local\\programs\\python\\python310\\lib\\site-packages (from mlxtend) (1.24.3)\n",
      "Requirement already satisfied: pandas>=0.24.2 in c:\\users\\sysme hue\\appdata\\local\\programs\\python\\python310\\lib\\site-packages (from mlxtend) (2.0.1)\n",
      "Requirement already satisfied: scikit-learn>=1.0.2 in c:\\users\\sysme hue\\appdata\\local\\programs\\python\\python310\\lib\\site-packages (from mlxtend) (1.2.2)\n",
      "Requirement already satisfied: matplotlib>=3.0.0 in c:\\users\\sysme hue\\appdata\\local\\programs\\python\\python310\\lib\\site-packages (from mlxtend) (3.7.1)\n",
      "Requirement already satisfied: joblib>=0.13.2 in c:\\users\\sysme hue\\appdata\\local\\programs\\python\\python310\\lib\\site-packages (from mlxtend) (1.2.0)\n",
      "Requirement already satisfied: setuptools in c:\\users\\sysme hue\\appdata\\local\\programs\\python\\python310\\lib\\site-packages (from mlxtend) (63.2.0)\n",
      "Requirement already satisfied: contourpy>=1.0.1 in c:\\users\\sysme hue\\appdata\\local\\programs\\python\\python310\\lib\\site-packages (from matplotlib>=3.0.0->mlxtend) (1.0.7)\n",
      "Requirement already satisfied: cycler>=0.10 in c:\\users\\sysme hue\\appdata\\local\\programs\\python\\python310\\lib\\site-packages (from matplotlib>=3.0.0->mlxtend) (0.11.0)\n",
      "Requirement already satisfied: fonttools>=4.22.0 in c:\\users\\sysme hue\\appdata\\local\\programs\\python\\python310\\lib\\site-packages (from matplotlib>=3.0.0->mlxtend) (4.39.4)\n",
      "Requirement already satisfied: kiwisolver>=1.0.1 in c:\\users\\sysme hue\\appdata\\local\\programs\\python\\python310\\lib\\site-packages (from matplotlib>=3.0.0->mlxtend) (1.4.4)\n",
      "Requirement already satisfied: packaging>=20.0 in c:\\users\\sysme hue\\appdata\\roaming\\python\\python310\\site-packages (from matplotlib>=3.0.0->mlxtend) (23.1)\n",
      "Requirement already satisfied: pillow>=6.2.0 in c:\\users\\sysme hue\\appdata\\local\\programs\\python\\python310\\lib\\site-packages (from matplotlib>=3.0.0->mlxtend) (9.5.0)\n",
      "Requirement already satisfied: pyparsing>=2.3.1 in c:\\users\\sysme hue\\appdata\\local\\programs\\python\\python310\\lib\\site-packages (from matplotlib>=3.0.0->mlxtend) (3.0.9)\n",
      "Requirement already satisfied: python-dateutil>=2.7 in c:\\users\\sysme hue\\appdata\\roaming\\python\\python310\\site-packages (from matplotlib>=3.0.0->mlxtend) (2.8.2)\n",
      "Requirement already satisfied: pytz>=2020.1 in c:\\users\\sysme hue\\appdata\\local\\programs\\python\\python310\\lib\\site-packages (from pandas>=0.24.2->mlxtend) (2023.3)\n",
      "Requirement already satisfied: tzdata>=2022.1 in c:\\users\\sysme hue\\appdata\\local\\programs\\python\\python310\\lib\\site-packages (from pandas>=0.24.2->mlxtend) (2023.3)\n",
      "Requirement already satisfied: threadpoolctl>=2.0.0 in c:\\users\\sysme hue\\appdata\\local\\programs\\python\\python310\\lib\\site-packages (from scikit-learn>=1.0.2->mlxtend) (3.1.0)\n",
      "Requirement already satisfied: six>=1.5 in c:\\users\\sysme hue\\appdata\\roaming\\python\\python310\\site-packages (from python-dateutil>=2.7->matplotlib>=3.0.0->mlxtend) (1.16.0)\n",
      "Installing collected packages: mlxtend\n",
      "Successfully installed mlxtend-0.22.0\n"
     ]
    }
   ],
   "source": [
    "!python -m pip install mlxtend"
   ]
  },
  {
   "cell_type": "code",
   "execution_count": 5,
   "metadata": {},
   "outputs": [
    {
     "name": "stdout",
     "output_type": "stream",
     "text": [
      "Các lý do chính cho nhãn 'Thích':\n"
     ]
    }
   ],
   "source": [
    "import pandas as pd\n",
    "from mlxtend.preprocessing import TransactionEncoder\n",
    "from mlxtend.frequent_patterns import apriori, association_rules\n",
    "\n",
    "# Tạo DataFrame từ dữ liệu\n",
    "data = {\n",
    "    'Reviews': [\n",
    "        \"recebir bem antes prazo estipular\",\n",
    "        \"parabéns loja lannister adorar comprar Internet\",\n",
    "        \"aparelho eficiente site marca aparelho impress\",\n",
    "        \"pouco travar valor ta boa\",\n",
    "        \"vendedor confiável produto ok entregar antes\"\n",
    "    ],\n",
    "    'Label': [\n",
    "        \"Thích\",\n",
    "        \"Thích\",\n",
    "        \"Thích\",\n",
    "        \"Thích\",\n",
    "        \"Thích\"\n",
    "    ]\n",
    "}\n",
    "\n",
    "df = pd.DataFrame(data)\n",
    "\n",
    "# Tách từng từ trong câu và tạo danh sách các từ cho mỗi đánh giá\n",
    "reviews = [review.split() for review in df['Reviews']]\n",
    "\n",
    "# Áp dụng mã hóa và tìm các quy tắc kết hợp phổ biến\n",
    "te = TransactionEncoder()\n",
    "te_array = te.fit_transform(reviews)\n",
    "df_encoded = pd.DataFrame(te_array, columns=te.columns_)\n",
    "frequent_itemsets = apriori(df_encoded, min_support=0.2, use_colnames=True)\n",
    "\n",
    "# Tìm các quy tắc liên quan đến nhãn \"Thích\"\n",
    "rules = association_rules(frequent_itemsets, metric=\"confidence\", min_threshold=0.5)\n",
    "rules_thich = rules[rules['consequents'] == {'Thích'}]\n",
    "\n",
    "# Hiển thị lý do chính\n",
    "main_reasons = [list(rule['antecedents']) for _, rule in rules_thich.iterrows()]\n",
    "print(\"Các lý do chính cho nhãn 'Thích':\")\n",
    "for reasons in main_reasons:\n",
    "    print(\", \".join(reasons))"
   ]
  },
  {
   "cell_type": "code",
   "execution_count": 1,
   "metadata": {},
   "outputs": [],
   "source": [
    "import pandas as pd\n",
    "\n",
    "df = pd.read_csv('df_ans - Copy.csv')\n",
    "# Lấy 1000 ô đầu tiên của DataFrame\n",
    "df_first_1000 = df.head(1000)\n",
    "\n",
    "# Lưu DataFrame thành tệp tin CSV\n",
    "df_first_1000.to_csv('output.csv', index=False)"
   ]
  },
  {
   "cell_type": "code",
   "execution_count": 5,
   "metadata": {},
   "outputs": [],
   "source": [
    "import pandas as pd\n",
    "\n",
    "df_ans = pd.read_csv('df_ans.csv', index_col=False)\n",
    "\n",
    "df = df_ans.copy()\n"
   ]
  },
  {
   "cell_type": "code",
   "execution_count": 15,
   "metadata": {},
   "outputs": [],
   "source": [
    "df = df_n.rename(columns={'Transaction': 'customer_unique_id', 'Item': 'product_id'})\n"
   ]
  },
  {
   "cell_type": "code",
   "execution_count": 2,
   "metadata": {},
   "outputs": [
    {
     "data": {
      "text/html": [
       "<div>\n",
       "<style scoped>\n",
       "    .dataframe tbody tr th:only-of-type {\n",
       "        vertical-align: middle;\n",
       "    }\n",
       "\n",
       "    .dataframe tbody tr th {\n",
       "        vertical-align: top;\n",
       "    }\n",
       "\n",
       "    .dataframe thead th {\n",
       "        text-align: right;\n",
       "    }\n",
       "</style>\n",
       "<table border=\"1\" class=\"dataframe\">\n",
       "  <thead>\n",
       "    <tr style=\"text-align: right;\">\n",
       "      <th></th>\n",
       "      <th>Unnamed: 0</th>\n",
       "      <th>review_comment_message</th>\n",
       "      <th>Sentimentabds</th>\n",
       "    </tr>\n",
       "  </thead>\n",
       "  <tbody>\n",
       "    <tr>\n",
       "      <th>0</th>\n",
       "      <td>0</td>\n",
       "      <td>Absolutely wonderful - silky and sexy and comf...</td>\n",
       "      <td>NaN</td>\n",
       "    </tr>\n",
       "    <tr>\n",
       "      <th>1</th>\n",
       "      <td>1</td>\n",
       "      <td>This dress is perfection! so pretty and flatte...</td>\n",
       "      <td>NaN</td>\n",
       "    </tr>\n",
       "    <tr>\n",
       "      <th>2</th>\n",
       "      <td>2</td>\n",
       "      <td>Beautifully made pants and on trend with the f...</td>\n",
       "      <td>NaN</td>\n",
       "    </tr>\n",
       "    <tr>\n",
       "      <th>3</th>\n",
       "      <td>3</td>\n",
       "      <td>These pants are even better in person. the onl...</td>\n",
       "      <td>NaN</td>\n",
       "    </tr>\n",
       "    <tr>\n",
       "      <th>4</th>\n",
       "      <td>4</td>\n",
       "      <td>Wouldn't have given them a second look but tri...</td>\n",
       "      <td>NaN</td>\n",
       "    </tr>\n",
       "    <tr>\n",
       "      <th>...</th>\n",
       "      <td>...</td>\n",
       "      <td>...</td>\n",
       "      <td>...</td>\n",
       "    </tr>\n",
       "    <tr>\n",
       "      <th>2591</th>\n",
       "      <td>2591</td>\n",
       "      <td>Can i tell you this top is amazing?! get it qu...</td>\n",
       "      <td>NaN</td>\n",
       "    </tr>\n",
       "    <tr>\n",
       "      <th>2592</th>\n",
       "      <td>2592</td>\n",
       "      <td>Love this print and fabric! its soft and comfy...</td>\n",
       "      <td>NaN</td>\n",
       "    </tr>\n",
       "    <tr>\n",
       "      <th>2593</th>\n",
       "      <td>2593</td>\n",
       "      <td>As per usual bordeaux is perfect with this car...</td>\n",
       "      <td>NaN</td>\n",
       "    </tr>\n",
       "    <tr>\n",
       "      <th>2594</th>\n",
       "      <td>2594</td>\n",
       "      <td>NaN</td>\n",
       "      <td>NaN</td>\n",
       "    </tr>\n",
       "    <tr>\n",
       "      <th>2595</th>\n",
       "      <td>2595</td>\n",
       "      <td>NaN</td>\n",
       "      <td>NaN</td>\n",
       "    </tr>\n",
       "  </tbody>\n",
       "</table>\n",
       "<p>2596 rows × 3 columns</p>\n",
       "</div>"
      ],
      "text/plain": [
       "      Unnamed: 0                             review_comment_message   \n",
       "0              0  Absolutely wonderful - silky and sexy and comf...  \\\n",
       "1              1  This dress is perfection! so pretty and flatte...   \n",
       "2              2  Beautifully made pants and on trend with the f...   \n",
       "3              3  These pants are even better in person. the onl...   \n",
       "4              4  Wouldn't have given them a second look but tri...   \n",
       "...          ...                                                ...   \n",
       "2591        2591  Can i tell you this top is amazing?! get it qu...   \n",
       "2592        2592  Love this print and fabric! its soft and comfy...   \n",
       "2593        2593  As per usual bordeaux is perfect with this car...   \n",
       "2594        2594                                                NaN   \n",
       "2595        2595                                                NaN   \n",
       "\n",
       "      Sentimentabds  \n",
       "0               NaN  \n",
       "1               NaN  \n",
       "2               NaN  \n",
       "3               NaN  \n",
       "4               NaN  \n",
       "...             ...  \n",
       "2591            NaN  \n",
       "2592            NaN  \n",
       "2593            NaN  \n",
       "2594            NaN  \n",
       "2595            NaN  \n",
       "\n",
       "[2596 rows x 3 columns]"
      ]
     },
     "execution_count": 2,
     "metadata": {},
     "output_type": "execute_result"
    }
   ],
   "source": [
    "import pandas as pd\n",
    "\n",
    "rav = pd.read_csv('data/rav_a.csv')\n",
    "rav"
   ]
  },
  {
   "cell_type": "code",
   "execution_count": 6,
   "metadata": {},
   "outputs": [],
   "source": [
    "rav[\"review_comment_message\"] = rav[\"review_comment_message\"].fillna(\"\")  # Điền các giá trị NaN bằng chuỗi rỗng\n",
    "\n",
    "rav = rav[~rav[\"review_comment_message\"].str.contains(\"compliments\")]  # Xoá các dòng có từ \"compliments\"\n"
   ]
  },
  {
   "cell_type": "code",
   "execution_count": 14,
   "metadata": {},
   "outputs": [
    {
     "name": "stdout",
     "output_type": "stream",
     "text": [
      "Xin chào bạn khoẻ không?\n"
     ]
    }
   ],
   "source": [
    "from googletrans import Translator\n",
    "\n",
    "\n",
    "\n",
    "# Ví dụ sử dụng\n",
    "text_to_translate = \"Olá, como você está?\"\n",
    "target_language = \"vi\"\n",
    "translation = translate_text(text_to_translate)\n",
    "print(translation)\n"
   ]
  },
  {
   "cell_type": "code",
   "execution_count": 7,
   "metadata": {},
   "outputs": [],
   "source": [
    "rav.to_csv(\"rva22.csv\", index=False)"
   ]
  },
  {
   "cell_type": "code",
   "execution_count": null,
   "metadata": {},
   "outputs": [],
   "source": []
  }
 ],
 "metadata": {
  "kernelspec": {
   "display_name": "Python 3",
   "language": "python",
   "name": "python3"
  },
  "language_info": {
   "codemirror_mode": {
    "name": "ipython",
    "version": 3
   },
   "file_extension": ".py",
   "mimetype": "text/x-python",
   "name": "python",
   "nbconvert_exporter": "python",
   "pygments_lexer": "ipython3",
   "version": "3.10.7"
  },
  "orig_nbformat": 4
 },
 "nbformat": 4,
 "nbformat_minor": 2
}

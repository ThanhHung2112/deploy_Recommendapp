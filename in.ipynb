{
 "cells": [
  {
   "cell_type": "code",
   "execution_count": 4,
   "metadata": {},
   "outputs": [
    {
     "name": "stdout",
     "output_type": "stream",
     "text": [
      "Collecting mlxtend\n",
      "  Downloading mlxtend-0.22.0-py2.py3-none-any.whl (1.4 MB)\n",
      "                                              0.0/1.4 MB ? eta -:--:--\n",
      "     --                                       0.1/1.4 MB 1.1 MB/s eta 0:00:02\n",
      "     -------                                  0.3/1.4 MB 2.2 MB/s eta 0:00:01\n",
      "     -------------------                      0.7/1.4 MB 3.8 MB/s eta 0:00:01\n",
      "     ------------------------------------     1.2/1.4 MB 5.3 MB/s eta 0:00:01\n",
      "     ---------------------------------------- 1.4/1.4 MB 5.0 MB/s eta 0:00:00\n",
      "Requirement already satisfied: scipy>=1.2.1 in c:\\users\\sysme hue\\appdata\\local\\programs\\python\\python310\\lib\\site-packages (from mlxtend) (1.10.1)\n",
      "Requirement already satisfied: numpy>=1.16.2 in c:\\users\\sysme hue\\appdata\\local\\programs\\python\\python310\\lib\\site-packages (from mlxtend) (1.24.3)\n",
      "Requirement already satisfied: pandas>=0.24.2 in c:\\users\\sysme hue\\appdata\\local\\programs\\python\\python310\\lib\\site-packages (from mlxtend) (2.0.1)\n",
      "Requirement already satisfied: scikit-learn>=1.0.2 in c:\\users\\sysme hue\\appdata\\local\\programs\\python\\python310\\lib\\site-packages (from mlxtend) (1.2.2)\n",
      "Requirement already satisfied: matplotlib>=3.0.0 in c:\\users\\sysme hue\\appdata\\local\\programs\\python\\python310\\lib\\site-packages (from mlxtend) (3.7.1)\n",
      "Requirement already satisfied: joblib>=0.13.2 in c:\\users\\sysme hue\\appdata\\local\\programs\\python\\python310\\lib\\site-packages (from mlxtend) (1.2.0)\n",
      "Requirement already satisfied: setuptools in c:\\users\\sysme hue\\appdata\\local\\programs\\python\\python310\\lib\\site-packages (from mlxtend) (63.2.0)\n",
      "Requirement already satisfied: contourpy>=1.0.1 in c:\\users\\sysme hue\\appdata\\local\\programs\\python\\python310\\lib\\site-packages (from matplotlib>=3.0.0->mlxtend) (1.0.7)\n",
      "Requirement already satisfied: cycler>=0.10 in c:\\users\\sysme hue\\appdata\\local\\programs\\python\\python310\\lib\\site-packages (from matplotlib>=3.0.0->mlxtend) (0.11.0)\n",
      "Requirement already satisfied: fonttools>=4.22.0 in c:\\users\\sysme hue\\appdata\\local\\programs\\python\\python310\\lib\\site-packages (from matplotlib>=3.0.0->mlxtend) (4.39.4)\n",
      "Requirement already satisfied: kiwisolver>=1.0.1 in c:\\users\\sysme hue\\appdata\\local\\programs\\python\\python310\\lib\\site-packages (from matplotlib>=3.0.0->mlxtend) (1.4.4)\n",
      "Requirement already satisfied: packaging>=20.0 in c:\\users\\sysme hue\\appdata\\roaming\\python\\python310\\site-packages (from matplotlib>=3.0.0->mlxtend) (23.1)\n",
      "Requirement already satisfied: pillow>=6.2.0 in c:\\users\\sysme hue\\appdata\\local\\programs\\python\\python310\\lib\\site-packages (from matplotlib>=3.0.0->mlxtend) (9.5.0)\n",
      "Requirement already satisfied: pyparsing>=2.3.1 in c:\\users\\sysme hue\\appdata\\local\\programs\\python\\python310\\lib\\site-packages (from matplotlib>=3.0.0->mlxtend) (3.0.9)\n",
      "Requirement already satisfied: python-dateutil>=2.7 in c:\\users\\sysme hue\\appdata\\roaming\\python\\python310\\site-packages (from matplotlib>=3.0.0->mlxtend) (2.8.2)\n",
      "Requirement already satisfied: pytz>=2020.1 in c:\\users\\sysme hue\\appdata\\local\\programs\\python\\python310\\lib\\site-packages (from pandas>=0.24.2->mlxtend) (2023.3)\n",
      "Requirement already satisfied: tzdata>=2022.1 in c:\\users\\sysme hue\\appdata\\local\\programs\\python\\python310\\lib\\site-packages (from pandas>=0.24.2->mlxtend) (2023.3)\n",
      "Requirement already satisfied: threadpoolctl>=2.0.0 in c:\\users\\sysme hue\\appdata\\local\\programs\\python\\python310\\lib\\site-packages (from scikit-learn>=1.0.2->mlxtend) (3.1.0)\n",
      "Requirement already satisfied: six>=1.5 in c:\\users\\sysme hue\\appdata\\roaming\\python\\python310\\site-packages (from python-dateutil>=2.7->matplotlib>=3.0.0->mlxtend) (1.16.0)\n",
      "Installing collected packages: mlxtend\n",
      "Successfully installed mlxtend-0.22.0\n"
     ]
    }
   ],
   "source": [
    "!python -m pip install mlxtend"
   ]
  },
  {
   "cell_type": "code",
   "execution_count": 5,
   "metadata": {},
   "outputs": [
    {
     "name": "stdout",
     "output_type": "stream",
     "text": [
      "Các lý do chính cho nhãn 'Thích':\n"
     ]
    }
   ],
   "source": [
    "import pandas as pd\n",
    "from mlxtend.preprocessing import TransactionEncoder\n",
    "from mlxtend.frequent_patterns import apriori, association_rules\n",
    "\n",
    "# Tạo DataFrame từ dữ liệu\n",
    "data = {\n",
    "    'Reviews': [\n",
    "        \"recebir bem antes prazo estipular\",\n",
    "        \"parabéns loja lannister adorar comprar Internet\",\n",
    "        \"aparelho eficiente site marca aparelho impress\",\n",
    "        \"pouco travar valor ta boa\",\n",
    "        \"vendedor confiável produto ok entregar antes\"\n",
    "    ],\n",
    "    'Label': [\n",
    "        \"Thích\",\n",
    "        \"Thích\",\n",
    "        \"Thích\",\n",
    "        \"Thích\",\n",
    "        \"Thích\"\n",
    "    ]\n",
    "}\n",
    "\n",
    "df = pd.DataFrame(data)\n",
    "\n",
    "# Tách từng từ trong câu và tạo danh sách các từ cho mỗi đánh giá\n",
    "reviews = [review.split() for review in df['Reviews']]\n",
    "\n",
    "# Áp dụng mã hóa và tìm các quy tắc kết hợp phổ biến\n",
    "te = TransactionEncoder()\n",
    "te_array = te.fit_transform(reviews)\n",
    "df_encoded = pd.DataFrame(te_array, columns=te.columns_)\n",
    "frequent_itemsets = apriori(df_encoded, min_support=0.2, use_colnames=True)\n",
    "\n",
    "# Tìm các quy tắc liên quan đến nhãn \"Thích\"\n",
    "rules = association_rules(frequent_itemsets, metric=\"confidence\", min_threshold=0.5)\n",
    "rules_thich = rules[rules['consequents'] == {'Thích'}]\n",
    "\n",
    "# Hiển thị lý do chính\n",
    "main_reasons = [list(rule['antecedents']) for _, rule in rules_thich.iterrows()]\n",
    "print(\"Các lý do chính cho nhãn 'Thích':\")\n",
    "for reasons in main_reasons:\n",
    "    print(\", \".join(reasons))"
   ]
  },
  {
   "cell_type": "code",
   "execution_count": 1,
   "metadata": {},
   "outputs": [],
   "source": [
    "import pandas as pd\n",
    "\n",
    "df = pd.read_csv('df_ans - Copy.csv')\n",
    "# Lấy 1000 ô đầu tiên của DataFrame\n",
    "df_first_1000 = df.head(1000)\n",
    "\n",
    "# Lưu DataFrame thành tệp tin CSV\n",
    "df_first_1000.to_csv('output.csv', index=False)"
   ]
  },
  {
   "cell_type": "code",
   "execution_count": 9,
   "metadata": {},
   "outputs": [],
   "source": [
    "import pandas as pd\n",
    "\n",
    "df_ans = pd.read_csv('bread basket.csv', index_col=False)\n",
    "\n",
    "df_n = df_ans.copy()\n"
   ]
  },
  {
   "cell_type": "code",
   "execution_count": 15,
   "metadata": {},
   "outputs": [],
   "source": [
    "df = df_n.rename(columns={'Transaction': 'customer_unique_id', 'Item': 'product_id'})\n"
   ]
  },
  {
   "cell_type": "code",
   "execution_count": 16,
   "metadata": {},
   "outputs": [
    {
     "data": {
      "text/html": [
       "<div>\n",
       "<style scoped>\n",
       "    .dataframe tbody tr th:only-of-type {\n",
       "        vertical-align: middle;\n",
       "    }\n",
       "\n",
       "    .dataframe tbody tr th {\n",
       "        vertical-align: top;\n",
       "    }\n",
       "\n",
       "    .dataframe thead th {\n",
       "        text-align: right;\n",
       "    }\n",
       "</style>\n",
       "<table border=\"1\" class=\"dataframe\">\n",
       "  <thead>\n",
       "    <tr style=\"text-align: right;\">\n",
       "      <th></th>\n",
       "      <th>customer_unique_id</th>\n",
       "      <th>product_id</th>\n",
       "      <th>date_time</th>\n",
       "      <th>period_day</th>\n",
       "      <th>weekday_weekend</th>\n",
       "    </tr>\n",
       "  </thead>\n",
       "  <tbody>\n",
       "    <tr>\n",
       "      <th>0</th>\n",
       "      <td>1</td>\n",
       "      <td>Bread</td>\n",
       "      <td>30-10-2016 09:58</td>\n",
       "      <td>morning</td>\n",
       "      <td>weekend</td>\n",
       "    </tr>\n",
       "    <tr>\n",
       "      <th>1</th>\n",
       "      <td>2</td>\n",
       "      <td>Scandinavian</td>\n",
       "      <td>30-10-2016 10:05</td>\n",
       "      <td>morning</td>\n",
       "      <td>weekend</td>\n",
       "    </tr>\n",
       "    <tr>\n",
       "      <th>2</th>\n",
       "      <td>2</td>\n",
       "      <td>Scandinavian</td>\n",
       "      <td>30-10-2016 10:05</td>\n",
       "      <td>morning</td>\n",
       "      <td>weekend</td>\n",
       "    </tr>\n",
       "    <tr>\n",
       "      <th>3</th>\n",
       "      <td>3</td>\n",
       "      <td>Hot chocolate</td>\n",
       "      <td>30-10-2016 10:07</td>\n",
       "      <td>morning</td>\n",
       "      <td>weekend</td>\n",
       "    </tr>\n",
       "    <tr>\n",
       "      <th>4</th>\n",
       "      <td>3</td>\n",
       "      <td>Jam</td>\n",
       "      <td>30-10-2016 10:07</td>\n",
       "      <td>morning</td>\n",
       "      <td>weekend</td>\n",
       "    </tr>\n",
       "    <tr>\n",
       "      <th>...</th>\n",
       "      <td>...</td>\n",
       "      <td>...</td>\n",
       "      <td>...</td>\n",
       "      <td>...</td>\n",
       "      <td>...</td>\n",
       "    </tr>\n",
       "    <tr>\n",
       "      <th>20502</th>\n",
       "      <td>9682</td>\n",
       "      <td>Coffee</td>\n",
       "      <td>09-04-2017 14:32</td>\n",
       "      <td>afternoon</td>\n",
       "      <td>weekend</td>\n",
       "    </tr>\n",
       "    <tr>\n",
       "      <th>20503</th>\n",
       "      <td>9682</td>\n",
       "      <td>Tea</td>\n",
       "      <td>09-04-2017 14:32</td>\n",
       "      <td>afternoon</td>\n",
       "      <td>weekend</td>\n",
       "    </tr>\n",
       "    <tr>\n",
       "      <th>20504</th>\n",
       "      <td>9683</td>\n",
       "      <td>Coffee</td>\n",
       "      <td>09-04-2017 14:57</td>\n",
       "      <td>afternoon</td>\n",
       "      <td>weekend</td>\n",
       "    </tr>\n",
       "    <tr>\n",
       "      <th>20505</th>\n",
       "      <td>9683</td>\n",
       "      <td>Pastry</td>\n",
       "      <td>09-04-2017 14:57</td>\n",
       "      <td>afternoon</td>\n",
       "      <td>weekend</td>\n",
       "    </tr>\n",
       "    <tr>\n",
       "      <th>20506</th>\n",
       "      <td>9684</td>\n",
       "      <td>Smoothies</td>\n",
       "      <td>09-04-2017 15:04</td>\n",
       "      <td>afternoon</td>\n",
       "      <td>weekend</td>\n",
       "    </tr>\n",
       "  </tbody>\n",
       "</table>\n",
       "<p>20507 rows × 5 columns</p>\n",
       "</div>"
      ],
      "text/plain": [
       "       customer_unique_id     product_id         date_time period_day   \n",
       "0                       1          Bread  30-10-2016 09:58    morning  \\\n",
       "1                       2   Scandinavian  30-10-2016 10:05    morning   \n",
       "2                       2   Scandinavian  30-10-2016 10:05    morning   \n",
       "3                       3  Hot chocolate  30-10-2016 10:07    morning   \n",
       "4                       3            Jam  30-10-2016 10:07    morning   \n",
       "...                   ...            ...               ...        ...   \n",
       "20502                9682         Coffee  09-04-2017 14:32  afternoon   \n",
       "20503                9682            Tea  09-04-2017 14:32  afternoon   \n",
       "20504                9683         Coffee  09-04-2017 14:57  afternoon   \n",
       "20505                9683         Pastry  09-04-2017 14:57  afternoon   \n",
       "20506                9684      Smoothies  09-04-2017 15:04  afternoon   \n",
       "\n",
       "      weekday_weekend  \n",
       "0             weekend  \n",
       "1             weekend  \n",
       "2             weekend  \n",
       "3             weekend  \n",
       "4             weekend  \n",
       "...               ...  \n",
       "20502         weekend  \n",
       "20503         weekend  \n",
       "20504         weekend  \n",
       "20505         weekend  \n",
       "20506         weekend  \n",
       "\n",
       "[20507 rows x 5 columns]"
      ]
     },
     "execution_count": 16,
     "metadata": {},
     "output_type": "execute_result"
    }
   ],
   "source": [
    "df"
   ]
  },
  {
   "cell_type": "code",
   "execution_count": 21,
   "metadata": {},
   "outputs": [
    {
     "data": {
      "text/plain": [
       "(6000, 5)"
      ]
     },
     "execution_count": 21,
     "metadata": {},
     "output_type": "execute_result"
    }
   ],
   "source": [
    "df_n.shape"
   ]
  },
  {
   "cell_type": "code",
   "execution_count": 17,
   "metadata": {},
   "outputs": [],
   "source": [
    "df.to_csv(\"break_assoc.csv\", index=False)"
   ]
  },
  {
   "cell_type": "code",
   "execution_count": null,
   "metadata": {},
   "outputs": [],
   "source": []
  }
 ],
 "metadata": {
  "kernelspec": {
   "display_name": "Python 3",
   "language": "python",
   "name": "python3"
  },
  "language_info": {
   "codemirror_mode": {
    "name": "ipython",
    "version": 3
   },
   "file_extension": ".py",
   "mimetype": "text/x-python",
   "name": "python",
   "nbconvert_exporter": "python",
   "pygments_lexer": "ipython3",
   "version": "3.10.7"
  },
  "orig_nbformat": 4
 },
 "nbformat": 4,
 "nbformat_minor": 2
}
